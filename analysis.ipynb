{
 "cells": [
  {
   "cell_type": "code",
   "execution_count": 1,
   "metadata": {},
   "outputs": [],
   "source": [
    "# -*- coding: utf-8 -*-\n",
    "\"\"\"\n",
    "Created on Mon Feb  3 22:05:32 2020\n",
    "@author: 孙文约\n",
    "\"\"\"\n",
    "\n",
    "#导入包\n",
    "import pandas as pd\n",
    "import numpy  as np\n",
    "import matplotlib.pyplot as plt\n",
    "import scipy\n",
    "from scipy import stats\n"
   ]
  },
  {
   "cell_type": "markdown",
   "metadata": {},
   "source": [
    "## Chapter 1 数据的采集，清理与处理"
   ]
  },
  {
   "cell_type": "code",
   "execution_count": 7,
   "metadata": {},
   "outputs": [],
   "source": [
    "### 1.1 数据集th_video_data.csv\n",
    "#th_video_data.csv来自国地东 苏南/上海-氘化氢(1159841057) 的爬虫\n",
    "#其包含了东方视频的相关数据   \n",
    "\n",
    "path_video = r'C:\\Users\\dell\\Desktop\\thkp\\th_video_data.csv'\n",
    "data_origin_video = pd.read_csv(path_video)\n",
    "data_origin_video.columns = ['av号',\n",
    "                       '发布时间（1970.1.1以来的秒数）',\n",
    "                       'up_mid',\n",
    "                       'up_name',\n",
    "                       '点击','弹幕',\n",
    "                       '回复','收藏',\n",
    "                       '硬币']\n",
    "\n",
    "#缺失数据的处理\n",
    "#因为初始数据全为0时，表示数据状态异常\n",
    "#此时用up_mid代替\n",
    "data_miss_video = data_origin_video.loc[data_origin_video['up_mid']==0]\n",
    "data_video      = data_origin_video.drop(index=data_miss_video.index)\n",
    "\n",
    "###1.2 数据集th_video_tags\n",
    "#th_video_data.csv来自国地东 苏南/上海-氘化氢(1159841057) 的爬虫\n",
    "#其包含的东方视频的av号信息以及tag的相关数据\n",
    "path_tag = r'C:\\Users\\dell\\Desktop\\thkp\\th_video_tags_200208.csv'\n",
    "data_origin_tag = pd.read_csv(path_tag)\n",
    "\n",
    "###1.3 数据集th_ups"
   ]
  },
  {
   "cell_type": "markdown",
   "metadata": {},
   "source": [
    "## Chapter 2 Up主数量与投稿数量的分析\n",
    "下面开始进行数据分析的环节。\n",
    "目前我们存在着现存的av号码，以及创作者的和作品的相关数据。\n",
    "首先我们对于作者的创作周期进行分析,\n",
    "探究创作者的分布情形"
   ]
  },
  {
   "cell_type": "code",
   "execution_count": 28,
   "metadata": {},
   "outputs": [
    {
     "name": "stderr",
     "output_type": "stream",
     "text": [
      "C:\\Users\\dell\\Anaconda3\\lib\\site-packages\\ipykernel_launcher.py:7: FutureWarning: by argument to sort_index is deprecated, please use .sort_values(by=...)\n",
      "  import sys\n"
     ]
    },
    {
     "data": {
      "text/plain": [
       "Text(0.5, 1.0, 'up主人数与创作量的关系')"
      ]
     },
     "execution_count": 28,
     "metadata": {},
     "output_type": "execute_result"
    },
    {
     "data": {
      "image/png": "[encoded data removed]",
      "text/plain": [
       "<Figure size 432x288 with 1 Axes>"
      ]
     },
     "metadata": {
      "needs_background": "light"
     },
     "output_type": "display_data"
    }
   ],
   "source": [
    "up_list = data_video[['av号','up_mid','up_name']]\n",
    "up_list = up_list.set_index(['up_mid','up_name'])\n",
    "\n",
    "#每个创作数统计\n",
    "up_product = up_list.count(level='up_mid')\n",
    "up_product.columns = ['video_quantity']\n",
    "up_product = up_product.sort_index(by=['video_quantity'],ascending=False)\n",
    "up_product.index   = range(1,len(up_product)+1)\n",
    "\n",
    "up_list = data_video[['up_mid','up_name']]\n",
    "\n",
    "#老艾：这一部分的图片可不可以用svg\n",
    "#此处建议采用区间分类方法，或者对数估计法\n",
    "#投稿数的set\n",
    "production_num = []\n",
    "for i in range(0,len(up_product)):\n",
    "    production_num.append(up_product.values[i][0])\n",
    "production_list = list(set(production_num))\n",
    "production_list.sort()\n",
    "\n",
    "#同一投稿数下的up人数数量(对数化)\n",
    "production_num_up = [] \n",
    "for i in production_list:\n",
    "    production_num_up.append(\n",
    "            len(up_product[up_product['video_quantity']==i])\n",
    "            )\n",
    "\n",
    "df_up_production = pd.DataFrame([\n",
    "        production_list,\n",
    "        production_num_up\n",
    "        ]).T\n",
    "    \n",
    "\n",
    "df_up_production.columns = ['video_quantity','up_quantity']\n",
    "df_up_production.index   = df_up_production['video_quantity']\n",
    "df_up_production = df_up_production['up_quantity']\n",
    "\n",
    "#est_powerlaw =  stats.powerlaw.\n",
    "\n",
    "plt.plot(df_up_production.head(60))\n",
    "plt.title('up主人数与创作量的关系')\n",
    "\n",
    "\n"
   ]
  },
  {
   "cell_type": "code",
   "execution_count": 44,
   "metadata": {},
   "outputs": [
    {
     "name": "stderr",
     "output_type": "stream",
     "text": [
      "C:\\Users\\dell\\Anaconda3\\lib\\site-packages\\ipykernel_launcher.py:14: RuntimeWarning: divide by zero encountered in power\n",
      "  \n",
      "C:\\Users\\dell\\Anaconda3\\lib\\site-packages\\matplotlib\\legend.py:497: UserWarning: Unrecognized location \"top right\". Falling back on \"best\"; valid locations are\n",
      "\tbest\n",
      "\tupper right\n",
      "\tupper left\n",
      "\tlower left\n",
      "\tlower right\n",
      "\tright\n",
      "\tcenter left\n",
      "\tcenter right\n",
      "\tlower center\n",
      "\tupper center\n",
      "\tcenter\n",
      "\n",
      "  % (loc, '\\n\\t'.join(self.codes)))\n"
     ]
    },
    {
     "data": {
      "image/png": "[encoded data removed]",
      "text/plain": [
       "<Figure size 432x288 with 1 Axes>"
      ]
     },
     "metadata": {
      "needs_background": "light"
     },
     "output_type": "display_data"
    },
    {
     "name": "stdout",
     "output_type": "stream",
     "text": [
      "对于前60的数据进行拟合分析，我们有：\n",
      "协变量为：-1.8909389745208764\n",
      "截距为：4.031892701770063\n",
      "lny = 4.031892701770063+ lnx * -1.8909389745208764\n",
      "R square is 0.9786115236910257\n"
     ]
    }
   ],
   "source": [
    "import scipy\n",
    "head_num = 60 #这里可以留着作为待调整参数之一\n",
    "from sklearn import linear_model\n",
    "regr = linear_model.LinearRegression()\n",
    "res = regr.fit(\n",
    "        np.log10(np.array(production_list[:head_num]).reshape(-1,1)),\n",
    "        np.log10(np.array(production_num_up[:head_num]).reshape(-1,1))\n",
    "                                   )\n",
    "score = res.score(\n",
    "        np.log10(np.array(production_list[:head_num]).reshape(-1,1)),\n",
    "        np.log10(np.array(production_num_up[:head_num]).reshape(-1,1)))\n",
    "\n",
    "x = range(0,head_num)\n",
    "y = (x**res.coef_[0][0])*(scipy.e**res.intercept_[0])\n",
    "plt.title('estimation')\n",
    "plt.plot(df_up_production[:head_num],label='real')\n",
    "plt.xlabel('video_quantity')\n",
    "plt.ylabel('up quantity')\n",
    "plt.xlim(0,60.0)\n",
    "plt.plot(x,y,label='estimation')\n",
    "plt.legend(loc='top right')\n",
    "plt.show()\n",
    "\n",
    "print('对于前' + str(head_num) +'的数据进行拟合分析，我们有：')\n",
    "print('协变量为：'+ str(res.coef_[0][0]))\n",
    "print('截距为：'+ str(res.intercept_[0]))\n",
    "print('lny = '+ str(res.intercept_[0]) + \n",
    "      '+ lnx * ' + str(res.coef_[0][0]))   \n",
    "print('R square is ' + str(score))\n"
   ]
  },
  {
   "cell_type": "markdown",
   "metadata": {},
   "source": [
    "##  Chapter3\n",
    "我们如何对于up主进行分类。\n",
    "所以此时我们另外需要b站up主的数据集合\n",
    "\n",
    "对于up主来讲，我们还可以统计出哪些数据进行分类？\n",
    "\n",
    "1. up主的初次投稿开始时间，最后一次投稿的结束时间\n",
    "2. up主的投稿数量以及收藏等数据...但是收藏等数据有一个问题，随着投稿的数量质量不同会有差异，因此可以采用收藏/投币/点赞所的中位数/最大值/平均值\n",
    "3. up主的投稿tag会影响up主的关键词，但是另外一部分关键词并不是体现在up主的关键词而是在于弹幕当中\n",
    "4. up主随着时间的改变影响了风格，那么会如何看待\n",
    "如果一个up主的粉丝很多，那么究竟是单次的高产导致还是因为不断的投稿，或者是因为up主本身就具有很多的流量，导致了其他的粉丝向b站潜移？\n",
    "如何在数据上进行辨别？\n"
   ]
  },
  {
   "cell_type": "code",
   "execution_count": 45,
   "metadata": {},
   "outputs": [
    {
     "name": "stdout",
     "output_type": "stream",
     "text": [
      "-8031.74292626183\n"
     ]
    },
    {
     "data": {
      "text/plain": [
       "[<matplotlib.lines.Line2D at 0x194815a6dd8>,\n",
       " <matplotlib.lines.Line2D at 0x1948e2e8128>,\n",
       " <matplotlib.lines.Line2D at 0x1948e2e8208>,\n",
       " <matplotlib.lines.Line2D at 0x1948e2e84e0>,\n",
       " <matplotlib.lines.Line2D at 0x1948e2e8630>]"
      ]
     },
     "execution_count": 45,
     "metadata": {},
     "output_type": "execute_result"
    },
    {
     "data": {
      "image/png": "[encoded data removed]",
      "text/plain": [
       "<Figure size 432x288 with 1 Axes>"
      ]
     },
     "metadata": {
      "needs_background": "light"
     },
     "output_type": "display_data"
    }
   ],
   "source": [
    "#up主数据汇总,先做一个无监督学习\n",
    "up_video = data_video.groupby(['up_mid']).sum()\n",
    "up_video.sort_index(level=1)\n",
    "up_video = up_video[['点击','弹幕','回复','收藏','硬币']]\n",
    "up_video.columns = ['总点击','总弹幕','总回复','总收藏','总硬币']\n",
    "\n",
    "up_production = data_video.groupby(['up_mid']).count()[['av号','up_name']]\n",
    "\n",
    "up_data = pd.merge(up_list,up_video,on='up_mid')\n",
    "up_data = pd.merge(up_data,up_production,on='up_mid')\n",
    "up_data.index = up_data['up_mid']\n",
    "up_data = up_data.sort_index(level=1).drop_duplicates()\n",
    "up_data = up_data[['up_name_x','总点击','总弹幕','总回复','总收藏','总硬币','up_name_y']]\n",
    "up_data.columns = ['up_name','总点击','总弹幕','总回复','总收藏','总硬币','投稿数']\n",
    "\n",
    "#下面进行聚类分析\n",
    "\n",
    "group_num = 6\n",
    "from sklearn.cluster import KMeans\n",
    "UL_data = up_data[['总点击',\n",
    "                   '总弹幕',\n",
    "                   '总回复',\n",
    "                   '总收藏',\n",
    "                   '总硬币',\n",
    "                      ]]\n",
    "#标准化z-score\n",
    "UL_data = (UL_data - UL_data.mean(axis=0))/(UL_data.std(axis=0))\n",
    "#求协方差矩阵\n",
    "up_cov = UL_data.cov()\n",
    "#聚类分析，Kmenad拟合\n",
    "kmodel = KMeans(n_clusters=group_num,n_jobs=3)\n",
    "k_res = kmodel.fit(UL_data)\n",
    "print(k_res.score(UL_data))\n",
    "#讲新的分群纳入到这里面\n",
    "UL_data['label']=k_res.labels_\n",
    "\n",
    "from mpl_toolkits.mplot3d import Axes3D\n",
    "import matplotlib.pyplot as plt\n",
    "colors = ['black', 'blue', 'red', 'yellow', 'brown','green']\n",
    "UL_data.plot.scatter('label',y='总点击',subplots=True)\n",
    "\n",
    "plt.plot(up_video)"
   ]
  },
  {
   "cell_type": "markdown",
   "metadata": {},
   "source": [
    "## Chapter4 东方视频的占比数量分布\n",
    "在这里，我们需要一个bilibili历来的视频数据集\n",
    "来确定东方在bilibili当中的视频占比究竟如何，\n",
    "并且给出时间的趋势以及分析\n"
   ]
  },
  {
   "cell_type": "code",
   "execution_count": null,
   "metadata": {},
   "outputs": [],
   "source": []
  }
 ],
 "metadata": {
  "kernelspec": {
   "display_name": "Python 3",
   "language": "python",
   "name": "python3"
  },
  "language_info": {
   "codemirror_mode": {
    "name": "ipython",
    "version": 3
   },
   "file_extension": ".py",
   "mimetype": "text/x-python",
   "name": "python",
   "nbconvert_exporter": "python",
   "pygments_lexer": "ipython3",
   "version": "3.7.1"
  }
 },
 "nbformat": 4,
 "nbformat_minor": 2
}
